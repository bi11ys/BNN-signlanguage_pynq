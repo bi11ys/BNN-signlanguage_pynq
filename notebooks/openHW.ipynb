{
 "cells": [
  {
   "cell_type": "markdown",
   "metadata": {},
   "source": [
    "# Data, ML Ensemble Schemes and Deep Learning on FPGAs"
   ]
  },
  {
   "cell_type": "markdown",
   "metadata": {},
   "source": [
    "Nowadays, one can observe massive amount of data production by numerous devices interacting with their environment and end users. Such data can be the subject of advanced processing usually through machine learning algorithms. Hence, we are able to provide intelligent applications and analytics in many research domains like health informatics, information technology, environmental sciences, and so on so forth. However, choosing the appropriate machine learning model for data processing can be one of the most difficult tasks.\n",
    "\n",
    "\n"
   ]
  },
  {
   "cell_type": "markdown",
   "metadata": {},
   "source": [
    "### Benchmarking of multiple Machine Learning Algorithms"
   ]
  },
  {
   "cell_type": "code",
   "execution_count": 1,
   "metadata": {
    "ExecuteTime": {
     "end_time": "2019-06-29T23:04:41.529826Z",
     "start_time": "2019-06-29T23:04:28.097823Z"
    }
   },
   "outputs": [],
   "source": [
    "#Importing the libraries\n",
    "\n",
    "import pandas as pd\n",
    "from pandas.plotting import scatter_matrix\n",
    "import matplotlib.pyplot as plt\n",
    "from sklearn import model_selection\n",
    "from sklearn.metrics import classification_report\n",
    "from sklearn.metrics import confusion_matrix\n",
    "from sklearn.metrics import accuracy_score\n",
    "from sklearn.linear_model import LogisticRegression\n",
    "from sklearn.tree import DecisionTreeClassifier\n",
    "from sklearn.neighbors import KNeighborsClassifier\n",
    "from sklearn.discriminant_analysis import LinearDiscriminantAnalysis\n",
    "from sklearn.naive_bayes import GaussianNB\n",
    "from sklearn.svm import SVC\n",
    "from sklearn.ensemble import RandomForestClassifier\n",
    "from sklearn.ensemble import VotingClassifier\n",
    "import warnings\n",
    "warnings.filterwarnings('ignore')"
   ]
  },
  {
   "cell_type": "code",
   "execution_count": 3,
   "metadata": {
    "ExecuteTime": {
     "end_time": "2019-06-29T23:05:50.236169Z",
     "start_time": "2019-06-29T23:05:38.294601Z"
    }
   },
   "outputs": [
    {
     "name": "stdout",
     "output_type": "stream",
     "text": [
      "Load the dataset\n",
      "Name of the dataset: humanpres.csv\n",
      "\n"
     ]
    }
   ],
   "source": [
    "#Load the dataset\n",
    "\n",
    "#Available datasets: Churn_Modelling.csv / humanpres.csv\n",
    "#Type the name of the dataset\n",
    "\n",
    "print(\"Load the dataset\")\n",
    "filename = input('Name of the dataset: ')\n",
    "print(\"\")\n",
    "\n",
    "\n",
    "dataset = pd.read_csv(filename)"
   ]
  },
  {
   "cell_type": "code",
   "execution_count": 4,
   "metadata": {
    "ExecuteTime": {
     "end_time": "2019-06-29T23:05:51.732822Z",
     "start_time": "2019-06-29T23:05:51.702947Z"
    }
   },
   "outputs": [],
   "source": [
    "array = dataset.values\n",
    "X = array[:,:-1]\n",
    "Y = array[:,-1]"
   ]
  },
  {
   "cell_type": "code",
   "execution_count": 5,
   "metadata": {
    "ExecuteTime": {
     "end_time": "2019-06-29T23:05:52.951597Z",
     "start_time": "2019-06-29T23:05:52.904534Z"
    }
   },
   "outputs": [],
   "source": [
    "X_train, X_test, Y_train, Y_test = model_selection.train_test_split(X, Y, test_size=0.20, random_state=1)"
   ]
  },
  {
   "cell_type": "code",
   "execution_count": 6,
   "metadata": {
    "ExecuteTime": {
     "end_time": "2019-06-29T23:05:54.700822Z",
     "start_time": "2019-06-29T23:05:54.415441Z"
    }
   },
   "outputs": [
    {
     "name": "stdout",
     "output_type": "stream",
     "text": [
      "\n",
      "--------------------------------\n",
      "Accuracy score with Naive Bayes\n",
      "--------------------------------\n",
      "\n",
      "0.9797421731123389\n",
      "\n",
      "------------------\n",
      "Confusion Matrix\n",
      "------------------\n",
      "\n",
      "[[1241   29]\n",
      " [   4  355]]\n",
      "\n",
      "----------------------\n",
      "Classification Report\n",
      "----------------------\n",
      "\n",
      "              precision    recall  f1-score   support\n",
      "\n",
      "         0.0       1.00      0.98      0.99      1270\n",
      "         1.0       0.92      0.99      0.96       359\n",
      "\n",
      "   micro avg       0.98      0.98      0.98      1629\n",
      "   macro avg       0.96      0.98      0.97      1629\n",
      "weighted avg       0.98      0.98      0.98      1629\n",
      "\n"
     ]
    }
   ],
   "source": [
    "# Make predictions on validation dataset with Naive Bayes\n",
    "\n",
    "nb = GaussianNB()\n",
    "nb.fit(X_train, Y_train)\n",
    "predictions = nb.predict(X_test)\n",
    "print(\"\")\n",
    "print('--------------------------------')\n",
    "print('Accuracy score with Naive Bayes') \n",
    "print('--------------------------------')\n",
    "print(\"\")\n",
    "print(accuracy_score(Y_test, predictions))\n",
    "print(\"\")\n",
    "print('------------------')\n",
    "print('Confusion Matrix')\n",
    "print('------------------')\n",
    "print(\"\")\n",
    "print(confusion_matrix(Y_test, predictions))\n",
    "print(\"\")\n",
    "print('----------------------')\n",
    "print('Classification Report')\n",
    "print('----------------------')\n",
    "print(\"\")\n",
    "print(classification_report(Y_test, predictions))"
   ]
  },
  {
   "cell_type": "code",
   "execution_count": 7,
   "metadata": {
    "ExecuteTime": {
     "end_time": "2019-06-29T23:06:01.216756Z",
     "start_time": "2019-06-29T23:06:00.641377Z"
    }
   },
   "outputs": [
    {
     "name": "stdout",
     "output_type": "stream",
     "text": [
      "\n",
      "---------------------------------------\n",
      "Accuracy score with Logistic Regression\n",
      "---------------------------------------\n",
      "\n",
      "0.9883364027010436\n",
      "\n",
      "------------------\n",
      "Confusion Matrix\n",
      "------------------\n",
      "\n",
      "[[1252   18]\n",
      " [   1  358]]\n",
      "\n",
      "----------------------\n",
      "Classification Report\n",
      "----------------------\n",
      "\n",
      "              precision    recall  f1-score   support\n",
      "\n",
      "         0.0       1.00      0.99      0.99      1270\n",
      "         1.0       0.95      1.00      0.97       359\n",
      "\n",
      "   micro avg       0.99      0.99      0.99      1629\n",
      "   macro avg       0.98      0.99      0.98      1629\n",
      "weighted avg       0.99      0.99      0.99      1629\n",
      "\n"
     ]
    }
   ],
   "source": [
    "# Make predictions on validation dataset with Logistic Regression\n",
    "lr = LogisticRegression()\n",
    "lr.fit(X_train, Y_train)\n",
    "predictions = lr.predict(X_test)\n",
    "print(\"\")\n",
    "print('---------------------------------------')\n",
    "print('Accuracy score with Logistic Regression') \n",
    "print('---------------------------------------')\n",
    "print(\"\")\n",
    "print(accuracy_score(Y_test, predictions))\n",
    "print(\"\")\n",
    "print('------------------')\n",
    "print('Confusion Matrix')\n",
    "print('------------------')\n",
    "print(\"\")\n",
    "print(confusion_matrix(Y_test, predictions))\n",
    "print(\"\")\n",
    "print('----------------------')\n",
    "print('Classification Report')\n",
    "print('----------------------')\n",
    "print(\"\")\n",
    "print(classification_report(Y_test, predictions))"
   ]
  },
  {
   "cell_type": "code",
   "execution_count": 8,
   "metadata": {
    "ExecuteTime": {
     "end_time": "2019-06-29T23:06:03.855433Z",
     "start_time": "2019-06-29T23:06:02.588640Z"
    }
   },
   "outputs": [
    {
     "name": "stdout",
     "output_type": "stream",
     "text": [
      "\n",
      "------------------------------------------\n",
      "Accuracy score with K-Neighbors Classifier\n",
      "------------------------------------------\n",
      "\n",
      "0.9901780233271946\n",
      "\n",
      "------------------\n",
      "Confusion Matrix\n",
      "------------------\n",
      "\n",
      "[[1256   14]\n",
      " [   2  357]]\n",
      "\n",
      "----------------------\n",
      "Classification Report\n",
      "----------------------\n",
      "\n",
      "              precision    recall  f1-score   support\n",
      "\n",
      "         0.0       1.00      0.99      0.99      1270\n",
      "         1.0       0.96      0.99      0.98       359\n",
      "\n",
      "   micro avg       0.99      0.99      0.99      1629\n",
      "   macro avg       0.98      0.99      0.99      1629\n",
      "weighted avg       0.99      0.99      0.99      1629\n",
      "\n"
     ]
    }
   ],
   "source": [
    "# Make predictions on validation dataset with K-Neighbors Classifier\n",
    "knn = KNeighborsClassifier()\n",
    "knn.fit(X_train, Y_train)\n",
    "predictions = knn.predict(X_test)\n",
    "print(\"\")\n",
    "print('------------------------------------------')\n",
    "print('Accuracy score with K-Neighbors Classifier') \n",
    "print('------------------------------------------')\n",
    "print(\"\")\n",
    "print(accuracy_score(Y_test, predictions))\n",
    "print(\"\")\n",
    "print('------------------')\n",
    "print('Confusion Matrix')\n",
    "print('------------------')\n",
    "print(\"\")\n",
    "print(confusion_matrix(Y_test, predictions))\n",
    "print(\"\")\n",
    "print('----------------------')\n",
    "print('Classification Report')\n",
    "print('----------------------')\n",
    "print(\"\")\n",
    "print(classification_report(Y_test, predictions))"
   ]
  },
  {
   "cell_type": "code",
   "execution_count": 9,
   "metadata": {
    "ExecuteTime": {
     "end_time": "2019-06-29T23:06:05.592128Z",
     "start_time": "2019-06-29T23:06:05.245618Z"
    }
   },
   "outputs": [
    {
     "name": "stdout",
     "output_type": "stream",
     "text": [
      "\n",
      "--------------------------------------------\n",
      "Accuracy score with Decision Tree Classifier\n",
      "--------------------------------------------\n",
      "\n",
      "0.992633517495396\n",
      "\n",
      "------------------\n",
      "Confusion Matrix\n",
      "------------------\n",
      "\n",
      "[[1265    5]\n",
      " [   7  352]]\n",
      "\n",
      "----------------------\n",
      "Classification Report\n",
      "----------------------\n",
      "\n",
      "              precision    recall  f1-score   support\n",
      "\n",
      "         0.0       0.99      1.00      1.00      1270\n",
      "         1.0       0.99      0.98      0.98       359\n",
      "\n",
      "   micro avg       0.99      0.99      0.99      1629\n",
      "   macro avg       0.99      0.99      0.99      1629\n",
      "weighted avg       0.99      0.99      0.99      1629\n",
      "\n"
     ]
    }
   ],
   "source": [
    "# Make predictions on validation dataset with Decision Tree Classifier\n",
    "dt = DecisionTreeClassifier()\n",
    "dt.fit(X_train, Y_train)\n",
    "predictions = dt.predict(X_test)\n",
    "print(\"\")\n",
    "print('--------------------------------------------')\n",
    "print('Accuracy score with Decision Tree Classifier') \n",
    "print('--------------------------------------------')\n",
    "print(\"\")\n",
    "print(accuracy_score(Y_test, predictions))\n",
    "print(\"\")\n",
    "print('------------------')\n",
    "print('Confusion Matrix')\n",
    "print('------------------')\n",
    "print(\"\")\n",
    "print(confusion_matrix(Y_test, predictions))\n",
    "print(\"\")\n",
    "print('----------------------')\n",
    "print('Classification Report')\n",
    "print('----------------------')\n",
    "print(\"\")\n",
    "print(classification_report(Y_test, predictions))"
   ]
  },
  {
   "cell_type": "markdown",
   "metadata": {},
   "source": [
    "### Ensemble schemes of ML Algorithms"
   ]
  },
  {
   "cell_type": "markdown",
   "metadata": {},
   "source": [
    "The first ensemble scheme with Max-voting. Both had and soft voting examples are included."
   ]
  },
  {
   "cell_type": "code",
   "execution_count": 10,
   "metadata": {
    "ExecuteTime": {
     "end_time": "2019-06-29T23:06:09.742306Z",
     "start_time": "2019-06-29T23:06:09.698390Z"
    }
   },
   "outputs": [],
   "source": [
    "#Ensemble with Max-Voting(Hard and soft Voting)\n",
    "\n",
    "estimators = []\n",
    "\n",
    "\n",
    "estimators.append(('Logistic Regression', lr))\n",
    "\n",
    "\n",
    "estimators.append(('Decision Tree Classifier', dt))\n",
    "\n",
    "\n",
    "estimators.append(('K-Neighbors',knn))\n",
    "\n",
    "\n",
    "estimators.append(('Naive Bayes',nb))"
   ]
  },
  {
   "cell_type": "code",
   "execution_count": 11,
   "metadata": {
    "ExecuteTime": {
     "end_time": "2019-06-29T23:06:12.801255Z",
     "start_time": "2019-06-29T23:06:10.991474Z"
    }
   },
   "outputs": [],
   "source": [
    "ensemble_model_hard = VotingClassifier(estimators=estimators, voting='hard')\n",
    "ensemble_model_hard.fit(X_train,Y_train)\n",
    "predictions1=ensemble_model_hard.predict(X_test)"
   ]
  },
  {
   "cell_type": "code",
   "execution_count": 12,
   "metadata": {
    "ExecuteTime": {
     "end_time": "2019-06-29T23:06:14.401436Z",
     "start_time": "2019-06-29T23:06:14.368246Z"
    }
   },
   "outputs": [
    {
     "name": "stdout",
     "output_type": "stream",
     "text": [
      "Accuracy with hard voting:  0.9901780233271946\n"
     ]
    }
   ],
   "source": [
    "print(\"Accuracy with hard voting: \",accuracy_score(Y_test,predictions1))"
   ]
  },
  {
   "cell_type": "code",
   "execution_count": 13,
   "metadata": {
    "ExecuteTime": {
     "end_time": "2019-06-29T23:06:17.494427Z",
     "start_time": "2019-06-29T23:06:16.639911Z"
    }
   },
   "outputs": [],
   "source": [
    "ensemble_model_soft = VotingClassifier(estimators=estimators, voting='soft')\n",
    "ensemble_model_soft.fit(X_train,Y_train)\n",
    "predictions2=ensemble_model_soft.predict(X_test)"
   ]
  },
  {
   "cell_type": "code",
   "execution_count": 14,
   "metadata": {
    "ExecuteTime": {
     "end_time": "2019-06-29T23:06:20.194540Z",
     "start_time": "2019-06-29T23:06:20.160808Z"
    }
   },
   "outputs": [
    {
     "name": "stdout",
     "output_type": "stream",
     "text": [
      "Accuracy with soft voting:  0.9895641497851443\n"
     ]
    }
   ],
   "source": [
    "print(\"Accuracy with soft voting: \",accuracy_score(Y_test,predictions2))"
   ]
  },
  {
   "cell_type": "markdown",
   "metadata": {
    "ExecuteTime": {
     "end_time": "2019-06-24T20:58:21.969684Z",
     "start_time": "2019-06-24T20:58:21.946027Z"
    }
   },
   "source": [
    "#### Bagging Classifiers"
   ]
  },
  {
   "cell_type": "code",
   "execution_count": 15,
   "metadata": {
    "ExecuteTime": {
     "end_time": "2019-06-29T23:06:22.979531Z",
     "start_time": "2019-06-29T23:06:22.963082Z"
    }
   },
   "outputs": [],
   "source": [
    "#Bagging Classifiers\n",
    "from sklearn.ensemble import BaggingClassifier"
   ]
  },
  {
   "cell_type": "code",
   "execution_count": 16,
   "metadata": {
    "ExecuteTime": {
     "end_time": "2019-06-29T23:06:23.793144Z",
     "start_time": "2019-06-29T23:06:23.770409Z"
    }
   },
   "outputs": [],
   "source": [
    "dt= DecisionTreeClassifier(criterion='entropy')\n",
    "bag_dt = BaggingClassifier(dt, max_features=1.0, n_estimators=5, \\\n",
    "                                 random_state=1, bootstrap=True)"
   ]
  },
  {
   "cell_type": "code",
   "execution_count": 17,
   "metadata": {
    "ExecuteTime": {
     "end_time": "2019-06-29T23:06:25.143792Z",
     "start_time": "2019-06-29T23:06:24.583610Z"
    }
   },
   "outputs": [
    {
     "data": {
      "text/plain": [
       "BaggingClassifier(base_estimator=DecisionTreeClassifier(class_weight=None, criterion='entropy', max_depth=None,\n",
       "            max_features=None, max_leaf_nodes=None,\n",
       "            min_impurity_decrease=0.0, min_impurity_split=None,\n",
       "            min_samples_leaf=1, min_samples_split=2,\n",
       "            min_weight_fraction_leaf=0.0, presort=False, random_state=None,\n",
       "            splitter='best'),\n",
       "         bootstrap=True, bootstrap_features=False, max_features=1.0,\n",
       "         max_samples=1.0, n_estimators=5, n_jobs=None, oob_score=False,\n",
       "         random_state=1, verbose=0, warm_start=False)"
      ]
     },
     "execution_count": 17,
     "metadata": {},
     "output_type": "execute_result"
    }
   ],
   "source": [
    "bag_dt.fit(X_train, Y_train)"
   ]
  },
  {
   "cell_type": "code",
   "execution_count": 18,
   "metadata": {
    "ExecuteTime": {
     "end_time": "2019-06-29T23:06:26.368224Z",
     "start_time": "2019-06-29T23:06:26.313422Z"
    }
   },
   "outputs": [
    {
     "data": {
      "text/plain": [
       "0.9950890116635973"
      ]
     },
     "execution_count": 18,
     "metadata": {},
     "output_type": "execute_result"
    }
   ],
   "source": [
    "bag_dt.score(X_test, Y_test)"
   ]
  },
  {
   "cell_type": "markdown",
   "metadata": {},
   "source": [
    "#### The Mlxtend Package"
   ]
  },
  {
   "cell_type": "code",
   "execution_count": 19,
   "metadata": {
    "ExecuteTime": {
     "end_time": "2019-06-29T23:06:36.831809Z",
     "start_time": "2019-06-29T23:06:36.696571Z"
    }
   },
   "outputs": [],
   "source": [
    "#Mlxtend\n",
    "from mlxtend.classifier import StackingClassifier"
   ]
  },
  {
   "cell_type": "code",
   "execution_count": 20,
   "metadata": {
    "ExecuteTime": {
     "end_time": "2019-06-29T23:06:39.793398Z",
     "start_time": "2019-06-29T23:06:39.762269Z"
    }
   },
   "outputs": [],
   "source": [
    "alg1 = KNeighborsClassifier(n_neighbors=1)\n",
    "alg2 = DecisionTreeClassifier()\n",
    "alg3 = GaussianNB()\n",
    "meta = LogisticRegression()\n",
    "stacking = StackingClassifier(classifiers=[alg1, alg2, alg3], \n",
    "                          meta_classifier=meta)"
   ]
  },
  {
   "cell_type": "code",
   "execution_count": 21,
   "metadata": {
    "ExecuteTime": {
     "end_time": "2019-06-29T23:07:10.732104Z",
     "start_time": "2019-06-29T23:06:41.041277Z"
    }
   },
   "outputs": [
    {
     "name": "stdout",
     "output_type": "stream",
     "text": [
      "Accuracy: 0.94  [KNN]\n",
      "Accuracy: 0.93  [Decision Tree]\n",
      "Accuracy: 0.96  [Naive Bayes]\n",
      "Accuracy: 0.95  [StackingClassifier]\n"
     ]
    }
   ],
   "source": [
    "for alg, label in zip([alg1, alg2, alg3, stacking], \n",
    "                      ['KNN', \n",
    "                       'Decision Tree', \n",
    "                       'Naive Bayes',\n",
    "                       'StackingClassifier']):\n",
    "\n",
    "    scores = model_selection.cross_val_score(alg, X, Y, \n",
    "                                              cv=5, scoring='accuracy')\n",
    "    print(\"Accuracy: %0.2f  [%s]\" \n",
    "          % (scores.mean(), label))"
   ]
  },
  {
   "cell_type": "markdown",
   "metadata": {},
   "source": [
    "#### Random Forest Classification"
   ]
  },
  {
   "cell_type": "code",
   "execution_count": 22,
   "metadata": {
    "ExecuteTime": {
     "end_time": "2019-06-29T23:07:17.821074Z",
     "start_time": "2019-06-29T23:07:17.174291Z"
    }
   },
   "outputs": [
    {
     "data": {
      "text/plain": [
       "RandomForestClassifier(bootstrap=True, class_weight=None, criterion='entropy',\n",
       "            max_depth=None, max_features='auto', max_leaf_nodes=None,\n",
       "            min_impurity_decrease=0.0, min_impurity_split=None,\n",
       "            min_samples_leaf=1, min_samples_split=2,\n",
       "            min_weight_fraction_leaf=0.0, n_estimators=10, n_jobs=None,\n",
       "            oob_score=False, random_state=0, verbose=0, warm_start=False)"
      ]
     },
     "execution_count": 22,
     "metadata": {},
     "output_type": "execute_result"
    }
   ],
   "source": [
    "# Fitting Random Forest Classification to the Training set\n",
    "from sklearn.ensemble import RandomForestClassifier\n",
    "from sklearn.model_selection import cross_val_score\n",
    "classifier = RandomForestClassifier(n_estimators = 10, criterion = 'entropy', random_state = 0)\n",
    "classifier.fit(X_train, Y_train)"
   ]
  },
  {
   "cell_type": "code",
   "execution_count": 23,
   "metadata": {
    "ExecuteTime": {
     "end_time": "2019-06-29T23:07:18.719163Z",
     "start_time": "2019-06-29T23:07:18.671032Z"
    }
   },
   "outputs": [],
   "source": [
    "y_pred = classifier.predict(X_test)"
   ]
  },
  {
   "cell_type": "code",
   "execution_count": 24,
   "metadata": {
    "ExecuteTime": {
     "end_time": "2019-06-29T23:07:19.582642Z",
     "start_time": "2019-06-29T23:07:19.517027Z"
    }
   },
   "outputs": [
    {
     "name": "stdout",
     "output_type": "stream",
     "text": [
      "[[1266    4]\n",
      " [   5  354]]\n"
     ]
    }
   ],
   "source": [
    "cm = confusion_matrix(Y_test, y_pred)\n",
    "print(cm)"
   ]
  },
  {
   "cell_type": "code",
   "execution_count": 25,
   "metadata": {
    "ExecuteTime": {
     "end_time": "2019-06-29T23:07:23.311348Z",
     "start_time": "2019-06-29T23:07:20.609802Z"
    }
   },
   "outputs": [],
   "source": [
    "accuracies = cross_val_score(estimator = classifier, X = X_train, y = Y_train, cv = 5)"
   ]
  },
  {
   "cell_type": "code",
   "execution_count": 26,
   "metadata": {
    "ExecuteTime": {
     "end_time": "2019-06-29T23:07:24.346172Z",
     "start_time": "2019-06-29T23:07:24.317958Z"
    }
   },
   "outputs": [
    {
     "data": {
      "text/plain": [
       "0.992938309678834"
      ]
     },
     "execution_count": 26,
     "metadata": {},
     "output_type": "execute_result"
    }
   ],
   "source": [
    "accuracies.mean()"
   ]
  },
  {
   "cell_type": "markdown",
   "metadata": {},
   "source": [
    "#### The Mlens Package"
   ]
  },
  {
   "cell_type": "code",
   "execution_count": 27,
   "metadata": {
    "ExecuteTime": {
     "end_time": "2019-06-29T23:07:28.776574Z",
     "start_time": "2019-06-29T23:07:28.382391Z"
    }
   },
   "outputs": [
    {
     "name": "stderr",
     "output_type": "stream",
     "text": [
      "[MLENS] backend: threading\n"
     ]
    }
   ],
   "source": [
    "#Mlens\n",
    "\n",
    "from mlens.ensemble import SuperLearner\n",
    "from sklearn.ensemble import RandomForestClassifier"
   ]
  },
  {
   "cell_type": "code",
   "execution_count": 28,
   "metadata": {
    "ExecuteTime": {
     "end_time": "2019-06-29T23:07:30.171237Z",
     "start_time": "2019-06-29T23:07:30.056718Z"
    }
   },
   "outputs": [],
   "source": [
    "dataset = pd.read_csv('Churn_Modelling.csv')"
   ]
  },
  {
   "cell_type": "code",
   "execution_count": 29,
   "metadata": {
    "ExecuteTime": {
     "end_time": "2019-06-29T23:07:31.096107Z",
     "start_time": "2019-06-29T23:07:31.068606Z"
    }
   },
   "outputs": [],
   "source": [
    "array = dataset.values\n",
    "X = array[:,:-1]\n",
    "Y = array[:,-1]"
   ]
  },
  {
   "cell_type": "code",
   "execution_count": 30,
   "metadata": {
    "ExecuteTime": {
     "end_time": "2019-06-29T23:07:31.987405Z",
     "start_time": "2019-06-29T23:07:31.969306Z"
    }
   },
   "outputs": [],
   "source": [
    "ensemble = SuperLearner(scorer=accuracy_score, random_state=0, verbose=2)"
   ]
  },
  {
   "cell_type": "code",
   "execution_count": 31,
   "metadata": {
    "ExecuteTime": {
     "end_time": "2019-06-29T23:07:32.942098Z",
     "start_time": "2019-06-29T23:07:32.855404Z"
    }
   },
   "outputs": [
    {
     "data": {
      "text/plain": [
       "SuperLearner(array_check=None, backend=None, folds=2,\n",
       "       layers=[Layer(backend='threading', dtype=<class 'numpy.float32'>, n_jobs=-1,\n",
       "   name='layer-1', propagate_features=None, raise_on_exception=True,\n",
       "   random_state=0, shuffle=False,\n",
       "   stack=[Group(backend='threading', dtype=<class 'numpy.float32'>,\n",
       "   indexer=FoldIndex(X=None, folds=2, raise_on_excep...cc3d4f8>)],\n",
       "   n_jobs=-1, name='group-0', raise_on_exception=True, transformers=[])],\n",
       "   verbose=1)],\n",
       "       model_selection=False, n_jobs=None, raise_on_exception=True,\n",
       "       random_state=0, sample_size=20,\n",
       "       scorer=<function accuracy_score at 0xacc3d4f8>, shuffle=False,\n",
       "       verbose=2)"
      ]
     },
     "execution_count": 31,
     "metadata": {},
     "output_type": "execute_result"
    }
   ],
   "source": [
    "ensemble.add([RandomForestClassifier(random_state=0), LogisticRegression()])"
   ]
  },
  {
   "cell_type": "code",
   "execution_count": 32,
   "metadata": {
    "ExecuteTime": {
     "end_time": "2019-06-29T23:07:34.159313Z",
     "start_time": "2019-06-29T23:07:34.068288Z"
    }
   },
   "outputs": [
    {
     "data": {
      "text/plain": [
       "SuperLearner(array_check=None, backend=None, folds=2,\n",
       "       layers=[Layer(backend='threading', dtype=<class 'numpy.float32'>, n_jobs=-1,\n",
       "   name='layer-1', propagate_features=None, raise_on_exception=True,\n",
       "   random_state=0, shuffle=False,\n",
       "   stack=[Group(backend='threading', dtype=<class 'numpy.float32'>,\n",
       "   indexer=FoldIndex(X=None, folds=2, raise_on_excep...cc3d4f8>)],\n",
       "   n_jobs=-1, name='group-1', raise_on_exception=True, transformers=[])],\n",
       "   verbose=1)],\n",
       "       model_selection=False, n_jobs=None, raise_on_exception=True,\n",
       "       random_state=0, sample_size=20,\n",
       "       scorer=<function accuracy_score at 0xacc3d4f8>, shuffle=False,\n",
       "       verbose=2)"
      ]
     },
     "execution_count": 32,
     "metadata": {},
     "output_type": "execute_result"
    }
   ],
   "source": [
    "ensemble.add([LogisticRegression(), SVC()])"
   ]
  },
  {
   "cell_type": "code",
   "execution_count": 33,
   "metadata": {
    "ExecuteTime": {
     "end_time": "2019-06-29T23:07:35.733209Z",
     "start_time": "2019-06-29T23:07:35.646457Z"
    }
   },
   "outputs": [
    {
     "data": {
      "text/plain": [
       "SuperLearner(array_check=None, backend=None, folds=2,\n",
       "       layers=[Layer(backend='threading', dtype=<class 'numpy.float32'>, n_jobs=-1,\n",
       "   name='layer-1', propagate_features=None, raise_on_exception=True,\n",
       "   random_state=0, shuffle=False,\n",
       "   stack=[Group(backend='threading', dtype=<class 'numpy.float32'>,\n",
       "   indexer=FoldIndex(X=None, folds=2, raise_on_excep...cc3d4f8>)],\n",
       "   n_jobs=-1, name='group-2', raise_on_exception=True, transformers=[])],\n",
       "   verbose=1)],\n",
       "       model_selection=False, n_jobs=None, raise_on_exception=True,\n",
       "       random_state=0, sample_size=20,\n",
       "       scorer=<function accuracy_score at 0xacc3d4f8>, shuffle=False,\n",
       "       verbose=2)"
      ]
     },
     "execution_count": 33,
     "metadata": {},
     "output_type": "execute_result"
    }
   ],
   "source": [
    "ensemble.add_meta(SVC())"
   ]
  },
  {
   "cell_type": "code",
   "execution_count": 34,
   "metadata": {
    "ExecuteTime": {
     "end_time": "2019-06-29T23:07:39.438532Z",
     "start_time": "2019-06-29T23:07:36.669562Z"
    }
   },
   "outputs": [
    {
     "name": "stdout",
     "output_type": "stream",
     "text": [
      "\n",
      "Fitting 3 layers\n",
      "Processing layer-1             done | 00:00:00\n",
      "Processing layer-2             done | 00:00:00\n",
      "Processing layer-3             done | 00:00:00\n",
      "Fit complete                        | 00:00:01\n",
      "\n",
      "Predicting 3 layers\n",
      "Processing layer-1             done | 00:00:00\n",
      "Processing layer-2             done | 00:00:00\n",
      "Processing layer-3             done | 00:00:00\n",
      "Predict complete                    | 00:00:01\n",
      "Fit data:\n",
      "                                   score-m  score-s  ft-m  ft-s  pt-m  pt-s\n",
      "layer-1  logisticregression           0.79     0.03  0.01  0.00  0.00  0.00\n",
      "layer-1  randomforestclassifier       0.84     0.00  0.15  0.05  0.01  0.00\n",
      "layer-2  logisticregression           0.81     0.00  0.01  0.00  0.01  0.00\n",
      "layer-2  svc                          0.84     0.00  0.01  0.00  0.00  0.00\n",
      "\n"
     ]
    }
   ],
   "source": [
    "ensemble.fit(X[:75], Y[:75])\n",
    "preds = ensemble.predict(X[75:])\n",
    "print(\"Fit data:\\n%r\" % ensemble.data)"
   ]
  },
  {
   "cell_type": "code",
   "execution_count": 35,
   "metadata": {
    "ExecuteTime": {
     "end_time": "2019-06-29T23:07:41.796251Z",
     "start_time": "2019-06-29T23:07:41.765629Z"
    }
   },
   "outputs": [
    {
     "name": "stdout",
     "output_type": "stream",
     "text": [
      "Prediction score: 0.785\n"
     ]
    }
   ],
   "source": [
    "print(\"Prediction score: %.3f\" % accuracy_score(preds, Y[75:]))"
   ]
  },
  {
   "cell_type": "markdown",
   "metadata": {},
   "source": [
    "### Deep Learning with Quantized Neural Network"
   ]
  },
  {
   "cell_type": "code",
   "execution_count": 36,
   "metadata": {
    "ExecuteTime": {
     "end_time": "2019-06-29T23:07:50.062204Z",
     "start_time": "2019-06-29T23:07:44.622878Z"
    }
   },
   "outputs": [
    {
     "data": {
      "application/javascript": [
       "\n",
       "require(['notebook/js/codecell'], function(codecell) {\n",
       "  codecell.CodeCell.options_default.highlight_modes[\n",
       "      'magic_text/x-csrc'] = {'reg':[/^%%microblaze/]};\n",
       "  Jupyter.notebook.events.one('kernel_ready.Kernel', function(){\n",
       "      Jupyter.notebook.get_cells().map(function(cell){\n",
       "          if (cell.cell_type == 'code'){ cell.auto_highlight(); } }) ;\n",
       "  });\n",
       "});\n"
      ]
     },
     "metadata": {},
     "output_type": "display_data"
    }
   ],
   "source": [
    "import bnn\n",
    "import os"
   ]
  },
  {
   "cell_type": "code",
   "execution_count": 37,
   "metadata": {
    "ExecuteTime": {
     "end_time": "2019-06-29T23:07:51.001532Z",
     "start_time": "2019-06-29T23:07:50.851068Z"
    }
   },
   "outputs": [
    {
     "name": "stdout",
     "output_type": "stream",
     "text": [
      "['fashion_mnist', 'mnist', 'sign-param-lfcW1A1-pynq', 'signlanguage', 'signlang2', 'chars_merged', 'signlang']\n"
     ]
    }
   ],
   "source": [
    "print(bnn.available_params(bnn.NETWORK_LFCW1A1))"
   ]
  },
  {
   "cell_type": "code",
   "execution_count": 38,
   "metadata": {
    "ExecuteTime": {
     "end_time": "2019-06-29T23:07:56.104497Z",
     "start_time": "2019-06-29T23:07:55.531740Z"
    }
   },
   "outputs": [],
   "source": [
    "\n",
    "hw_classifier = bnn.LfcClassifier(bnn.NETWORK_LFCW1A1,\"signlanguage\",bnn.RUNTIME_HW)\n"
   ]
  },
  {
   "cell_type": "code",
   "execution_count": 39,
   "metadata": {
    "ExecuteTime": {
     "end_time": "2019-06-29T23:07:57.198809Z",
     "start_time": "2019-06-29T23:07:57.175790Z"
    }
   },
   "outputs": [
    {
     "name": "stdout",
     "output_type": "stream",
     "text": [
      "['A', 'B', 'C', 'D', 'E', 'F', 'G', 'H', 'I', 'K']\n"
     ]
    }
   ],
   "source": [
    "print(hw_classifier.classes)"
   ]
  },
  {
   "cell_type": "code",
   "execution_count": 40,
   "metadata": {
    "ExecuteTime": {
     "end_time": "2019-06-29T23:08:01.845061Z",
     "start_time": "2019-06-29T23:08:01.701293Z"
    }
   },
   "outputs": [],
   "source": [
    "from PIL import Image\n",
    "from array import *\n",
    "\n",
    "def image_to_mnist(im, fp, invert=False):\n",
    "    # resize the image and invert if desired\n",
    "    # MNIST is white digits on black background\n",
    "    smallimg = im.resize((28, 28))\n",
    "    if invert:\n",
    "        smallimg = ImageOps.invert(smallimg)\n",
    "    # convert to byte array for MNIST storage\n",
    "    data_image = array('B')\n",
    "    pixel = smallimg.load()\n",
    "    for x in range(0,28):\n",
    "        for y in range(0,28):\n",
    "            data_image.append(pixel[y,x])\n",
    "    # Setting up the header of the MNIST format file\n",
    "    hexval = \"{0:#0{1}x}\".format(1,6)\n",
    "    header = array('B')\n",
    "    header.extend([0,0,8,1,0,0])\n",
    "    header.append(int('0x'+hexval[2:][:2],16))\n",
    "    header.append(int('0x'+hexval[2:][2:],16))\n",
    "    header.extend([0,0,0,28,0,0,0,28])\n",
    "    header[3] = 3 # Changing MSB for image data (0x00000803)\n",
    "    # write header and data to file\n",
    "    data_image = header + data_image\n",
    "    data_image.tofile(fp)"
   ]
  },
  {
   "cell_type": "code",
   "execution_count": 41,
   "metadata": {
    "ExecuteTime": {
     "end_time": "2019-06-29T23:08:12.130318Z",
     "start_time": "2019-06-29T23:08:11.960714Z"
    }
   },
   "outputs": [],
   "source": [
    "img_load = Image.open(\"/home/xilinx/jupyter_notebooks/bnn/pictures/img_20.png\").convert(\"L\")\n",
    "with open(\"7-mnist-formatted\", \"wb\") as fp:\n",
    "    image_to_mnist(img_load, fp)\n",
    "    "
   ]
  },
  {
   "cell_type": "code",
   "execution_count": 42,
   "metadata": {
    "ExecuteTime": {
     "end_time": "2019-06-29T23:08:13.053016Z",
     "start_time": "2019-06-29T23:08:12.992438Z"
    }
   },
   "outputs": [
    {
     "name": "stdout",
     "output_type": "stream",
     "text": [
      "Inference took 23.00 microseconds\n",
      "Classification rate: 43478.26 images per second\n",
      "Class number: 2\n",
      "Class name: C\n"
     ]
    },
    {
     "data": {
      "image/png": "[encoded data removed]",
      "text/plain": [
       "<PIL.Image.Image image mode=L size=28x28 at 0xAC511330>"
      ]
     },
     "metadata": {},
     "output_type": "display_data"
    }
   ],
   "source": [
    "class_out = hw_classifier.classify_mnist(\"7-mnist-formatted\")\n",
    "print(\"Class number: {0}\".format(class_out))\n",
    "print(\"Class name: {0}\".format(hw_classifier.class_name(class_out)))\n",
    "display(img_load)"
   ]
  },
  {
   "cell_type": "code",
   "execution_count": 8,
   "metadata": {
    "ExecuteTime": {
     "end_time": "2019-06-29T20:42:21.042967Z",
     "start_time": "2019-06-29T20:42:20.966568Z"
    }
   },
   "outputs": [],
   "source": [
    "sw_classifier = bnn.LfcClassifier(bnn.NETWORK_LFCW1A1,\"signlanguage\",bnn.RUNTIME_SW)"
   ]
  },
  {
   "cell_type": "code",
   "execution_count": 9,
   "metadata": {
    "ExecuteTime": {
     "end_time": "2019-06-29T20:42:22.232694Z",
     "start_time": "2019-06-29T20:42:22.116889Z"
    }
   },
   "outputs": [
    {
     "name": "stdout",
     "output_type": "stream",
     "text": [
      "Inference took 81096.00 microseconds\n",
      "Classification rate: 12.33 images per second\n",
      "Class number: 0\n",
      "Class name: A\n"
     ]
    }
   ],
   "source": [
    "class_out=sw_classifier.classify_mnist(\"7-mnist-formatted\")\n",
    "print(\"Class number: {0}\".format(class_out))\n",
    "print(\"Class name: {0}\".format(hw_classifier.class_name(class_out)))"
   ]
  },
  {
   "cell_type": "code",
   "execution_count": 10,
   "metadata": {
    "ExecuteTime": {
     "end_time": "2019-06-29T20:42:31.268905Z",
     "start_time": "2019-06-29T20:42:24.315803Z"
    }
   },
   "outputs": [
    {
     "data": {
      "image/png": "[encoded data removed]",
      "text/plain": [
       "<matplotlib.figure.Figure at 0xa89d2b10>"
      ]
     },
     "metadata": {},
     "output_type": "display_data"
    }
   ],
   "source": [
    "%matplotlib inline\n",
    "import numpy as np\n",
    "import matplotlib.pyplot as plt\n",
    "\n",
    "hw_time = [hw_classifier.usecPerImage]\n",
    "           \n",
    "sw_time = [sw_classifier.usecPerImage]\n",
    "           \n",
    "          \n",
    "x_axis = ('.')\n",
    "\n",
    "\n",
    "y_pos = np.arange(len(x_axis))\n",
    "plt.bar(y_pos-0.25, hw_time, 0.25)\n",
    "plt.bar(y_pos+0.25, sw_time, 0.25)\n",
    "plt.xticks(y_pos, x_axis)\n",
    "plt.legend([\"hardware\",\"software\"])\n",
    "plt.semilogy()\n",
    "plt.show()"
   ]
  },
  {
   "cell_type": "code",
   "execution_count": 11,
   "metadata": {
    "ExecuteTime": {
     "end_time": "2019-06-29T20:42:32.592436Z",
     "start_time": "2019-06-29T20:42:31.282768Z"
    }
   },
   "outputs": [
    {
     "data": {
      "image/png": "[encoded data removed]",
      "text/plain": [
       "<matplotlib.figure.Figure at 0xa6168790>"
      ]
     },
     "metadata": {},
     "output_type": "display_data"
    }
   ],
   "source": [
    "names = ['Hardware', 'Software']\n",
    "values = [1000000.0/hw_classifier.usecPerImage, 1000000.0/sw_classifier.usecPerImage]\n",
    "\n",
    "plt.figure(figsize=(15, 5))\n",
    "\n",
    "plt.subplot(131)\n",
    "plt.bar(names, values)\n",
    "\n",
    "plt.ylabel('Images Per Second')\n",
    "plt.title('Classification Rate')\n",
    "\n",
    "\n",
    "plt.suptitle('Image Classification')\n",
    "plt.show()"
   ]
  },
  {
   "cell_type": "code",
   "execution_count": null,
   "metadata": {},
   "outputs": [],
   "source": [
    "from pynq import Xlnk\n",
    "\n",
    "xlnk = Xlnk();\n",
    "xlnk.xlnk_reset()"
   ]
  }
 ],
 "metadata": {
  "kernelspec": {
   "display_name": "Python 3",
   "language": "python",
   "name": "python3"
  },
  "language_info": {
   "codemirror_mode": {
    "name": "ipython",
    "version": 3
   },
   "file_extension": ".py",
   "mimetype": "text/x-python",
   "name": "python",
   "nbconvert_exporter": "python",
   "pygments_lexer": "ipython3",
   "version": "3.6.5"
  }
 },
 "nbformat": 4,
 "nbformat_minor": 2
}
